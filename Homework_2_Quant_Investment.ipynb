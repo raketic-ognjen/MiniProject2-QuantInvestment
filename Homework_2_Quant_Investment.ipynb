{
  "nbformat": 4,
  "nbformat_minor": 0,
  "metadata": {
    "colab": {
      "provenance": []
    },
    "kernelspec": {
      "name": "python3",
      "display_name": "Python 3"
    },
    "language_info": {
      "name": "python"
    }
  },
  "cells": [
    {
      "cell_type": "markdown",
      "source": [
        "# <font color='MediumBlue ' style=\"font-size:40px\"><center><b>Problem set 2</b></center></font>"
      ],
      "metadata": {
        "id": "C6Ss_YcHEV0A"
      }
    },
    {
      "cell_type": "markdown",
      "source": [
        "<font color='DarkViolet ' style=\"font-size:25px\"><b>Problem 1 - Performance measures</b></font>"
      ],
      "metadata": {
        "id": "z6qiBDxnEeDV"
      }
    },
    {
      "cell_type": "markdown",
      "source": [],
      "metadata": {
        "id": "PAF5OGhqEgAb"
      }
    },
    {
      "cell_type": "markdown",
      "source": [
        "In this task you are invited to practice the calculation and interpretation of different performance measures. Before you start, please upload \"weekly4.xlsx\" into Google Colab."
      ],
      "metadata": {
        "id": "nxqYsa6dEhB5"
      }
    },
    {
      "cell_type": "markdown",
      "source": [
        "a) Import data on simple weekly returns on selected stocks (they are stored in sheet 1 of the \"weekly4.xlsx\" file)."
      ],
      "metadata": {
        "id": "VYsTEBA_Eh9b"
      }
    },
    {
      "cell_type": "code",
      "execution_count": 2,
      "metadata": {
        "colab": {
          "base_uri": "https://localhost:8080/",
          "height": 90
        },
        "id": "xLWz3VfHEQqL",
        "outputId": "309affcb-0f74-46a4-acca-e2bb9fb8d384"
      },
      "outputs": [
        {
          "output_type": "display_data",
          "data": {
            "text/plain": [
              "<IPython.core.display.HTML object>"
            ],
            "text/html": [
              "\n",
              "     <input type=\"file\" id=\"files-36a89318-b8f6-480b-932f-85e2e032b300\" name=\"files[]\" multiple disabled\n",
              "        style=\"border:none\" />\n",
              "     <output id=\"result-36a89318-b8f6-480b-932f-85e2e032b300\">\n",
              "      Upload widget is only available when the cell has been executed in the\n",
              "      current browser session. Please rerun this cell to enable.\n",
              "      </output>\n",
              "      <script>// Copyright 2017 Google LLC\n",
              "//\n",
              "// Licensed under the Apache License, Version 2.0 (the \"License\");\n",
              "// you may not use this file except in compliance with the License.\n",
              "// You may obtain a copy of the License at\n",
              "//\n",
              "//      http://www.apache.org/licenses/LICENSE-2.0\n",
              "//\n",
              "// Unless required by applicable law or agreed to in writing, software\n",
              "// distributed under the License is distributed on an \"AS IS\" BASIS,\n",
              "// WITHOUT WARRANTIES OR CONDITIONS OF ANY KIND, either express or implied.\n",
              "// See the License for the specific language governing permissions and\n",
              "// limitations under the License.\n",
              "\n",
              "/**\n",
              " * @fileoverview Helpers for google.colab Python module.\n",
              " */\n",
              "(function(scope) {\n",
              "function span(text, styleAttributes = {}) {\n",
              "  const element = document.createElement('span');\n",
              "  element.textContent = text;\n",
              "  for (const key of Object.keys(styleAttributes)) {\n",
              "    element.style[key] = styleAttributes[key];\n",
              "  }\n",
              "  return element;\n",
              "}\n",
              "\n",
              "// Max number of bytes which will be uploaded at a time.\n",
              "const MAX_PAYLOAD_SIZE = 100 * 1024;\n",
              "\n",
              "function _uploadFiles(inputId, outputId) {\n",
              "  const steps = uploadFilesStep(inputId, outputId);\n",
              "  const outputElement = document.getElementById(outputId);\n",
              "  // Cache steps on the outputElement to make it available for the next call\n",
              "  // to uploadFilesContinue from Python.\n",
              "  outputElement.steps = steps;\n",
              "\n",
              "  return _uploadFilesContinue(outputId);\n",
              "}\n",
              "\n",
              "// This is roughly an async generator (not supported in the browser yet),\n",
              "// where there are multiple asynchronous steps and the Python side is going\n",
              "// to poll for completion of each step.\n",
              "// This uses a Promise to block the python side on completion of each step,\n",
              "// then passes the result of the previous step as the input to the next step.\n",
              "function _uploadFilesContinue(outputId) {\n",
              "  const outputElement = document.getElementById(outputId);\n",
              "  const steps = outputElement.steps;\n",
              "\n",
              "  const next = steps.next(outputElement.lastPromiseValue);\n",
              "  return Promise.resolve(next.value.promise).then((value) => {\n",
              "    // Cache the last promise value to make it available to the next\n",
              "    // step of the generator.\n",
              "    outputElement.lastPromiseValue = value;\n",
              "    return next.value.response;\n",
              "  });\n",
              "}\n",
              "\n",
              "/**\n",
              " * Generator function which is called between each async step of the upload\n",
              " * process.\n",
              " * @param {string} inputId Element ID of the input file picker element.\n",
              " * @param {string} outputId Element ID of the output display.\n",
              " * @return {!Iterable<!Object>} Iterable of next steps.\n",
              " */\n",
              "function* uploadFilesStep(inputId, outputId) {\n",
              "  const inputElement = document.getElementById(inputId);\n",
              "  inputElement.disabled = false;\n",
              "\n",
              "  const outputElement = document.getElementById(outputId);\n",
              "  outputElement.innerHTML = '';\n",
              "\n",
              "  const pickedPromise = new Promise((resolve) => {\n",
              "    inputElement.addEventListener('change', (e) => {\n",
              "      resolve(e.target.files);\n",
              "    });\n",
              "  });\n",
              "\n",
              "  const cancel = document.createElement('button');\n",
              "  inputElement.parentElement.appendChild(cancel);\n",
              "  cancel.textContent = 'Cancel upload';\n",
              "  const cancelPromise = new Promise((resolve) => {\n",
              "    cancel.onclick = () => {\n",
              "      resolve(null);\n",
              "    };\n",
              "  });\n",
              "\n",
              "  // Wait for the user to pick the files.\n",
              "  const files = yield {\n",
              "    promise: Promise.race([pickedPromise, cancelPromise]),\n",
              "    response: {\n",
              "      action: 'starting',\n",
              "    }\n",
              "  };\n",
              "\n",
              "  cancel.remove();\n",
              "\n",
              "  // Disable the input element since further picks are not allowed.\n",
              "  inputElement.disabled = true;\n",
              "\n",
              "  if (!files) {\n",
              "    return {\n",
              "      response: {\n",
              "        action: 'complete',\n",
              "      }\n",
              "    };\n",
              "  }\n",
              "\n",
              "  for (const file of files) {\n",
              "    const li = document.createElement('li');\n",
              "    li.append(span(file.name, {fontWeight: 'bold'}));\n",
              "    li.append(span(\n",
              "        `(${file.type || 'n/a'}) - ${file.size} bytes, ` +\n",
              "        `last modified: ${\n",
              "            file.lastModifiedDate ? file.lastModifiedDate.toLocaleDateString() :\n",
              "                                    'n/a'} - `));\n",
              "    const percent = span('0% done');\n",
              "    li.appendChild(percent);\n",
              "\n",
              "    outputElement.appendChild(li);\n",
              "\n",
              "    const fileDataPromise = new Promise((resolve) => {\n",
              "      const reader = new FileReader();\n",
              "      reader.onload = (e) => {\n",
              "        resolve(e.target.result);\n",
              "      };\n",
              "      reader.readAsArrayBuffer(file);\n",
              "    });\n",
              "    // Wait for the data to be ready.\n",
              "    let fileData = yield {\n",
              "      promise: fileDataPromise,\n",
              "      response: {\n",
              "        action: 'continue',\n",
              "      }\n",
              "    };\n",
              "\n",
              "    // Use a chunked sending to avoid message size limits. See b/62115660.\n",
              "    let position = 0;\n",
              "    do {\n",
              "      const length = Math.min(fileData.byteLength - position, MAX_PAYLOAD_SIZE);\n",
              "      const chunk = new Uint8Array(fileData, position, length);\n",
              "      position += length;\n",
              "\n",
              "      const base64 = btoa(String.fromCharCode.apply(null, chunk));\n",
              "      yield {\n",
              "        response: {\n",
              "          action: 'append',\n",
              "          file: file.name,\n",
              "          data: base64,\n",
              "        },\n",
              "      };\n",
              "\n",
              "      let percentDone = fileData.byteLength === 0 ?\n",
              "          100 :\n",
              "          Math.round((position / fileData.byteLength) * 100);\n",
              "      percent.textContent = `${percentDone}% done`;\n",
              "\n",
              "    } while (position < fileData.byteLength);\n",
              "  }\n",
              "\n",
              "  // All done.\n",
              "  yield {\n",
              "    response: {\n",
              "      action: 'complete',\n",
              "    }\n",
              "  };\n",
              "}\n",
              "\n",
              "scope.google = scope.google || {};\n",
              "scope.google.colab = scope.google.colab || {};\n",
              "scope.google.colab._files = {\n",
              "  _uploadFiles,\n",
              "  _uploadFilesContinue,\n",
              "};\n",
              "})(self);\n",
              "</script> "
            ]
          },
          "metadata": {}
        },
        {
          "output_type": "stream",
          "name": "stdout",
          "text": [
            "Saving weekly4.xlsx to weekly4.xlsx\n"
          ]
        }
      ],
      "source": [
        "from google.colab import files\n",
        "uploaded0 = files.upload()"
      ]
    },
    {
      "cell_type": "code",
      "source": [
        "import pandas as pd\n",
        "import datetime as dt\n",
        "import numpy as np\n",
        "from google.colab import files\n",
        "uploaded1= files.upload()"
      ],
      "metadata": {
        "colab": {
          "base_uri": "https://localhost:8080/",
          "height": 73
        },
        "id": "LHzMUTWMEwPU",
        "outputId": "37773f15-a12c-43a7-cfd8-2dbed5997383"
      },
      "execution_count": 4,
      "outputs": [
        {
          "output_type": "display_data",
          "data": {
            "text/plain": [
              "<IPython.core.display.HTML object>"
            ],
            "text/html": [
              "\n",
              "     <input type=\"file\" id=\"files-51260357-cf81-4f11-8f92-7ce85363e0b5\" name=\"files[]\" multiple disabled\n",
              "        style=\"border:none\" />\n",
              "     <output id=\"result-51260357-cf81-4f11-8f92-7ce85363e0b5\">\n",
              "      Upload widget is only available when the cell has been executed in the\n",
              "      current browser session. Please rerun this cell to enable.\n",
              "      </output>\n",
              "      <script>// Copyright 2017 Google LLC\n",
              "//\n",
              "// Licensed under the Apache License, Version 2.0 (the \"License\");\n",
              "// you may not use this file except in compliance with the License.\n",
              "// You may obtain a copy of the License at\n",
              "//\n",
              "//      http://www.apache.org/licenses/LICENSE-2.0\n",
              "//\n",
              "// Unless required by applicable law or agreed to in writing, software\n",
              "// distributed under the License is distributed on an \"AS IS\" BASIS,\n",
              "// WITHOUT WARRANTIES OR CONDITIONS OF ANY KIND, either express or implied.\n",
              "// See the License for the specific language governing permissions and\n",
              "// limitations under the License.\n",
              "\n",
              "/**\n",
              " * @fileoverview Helpers for google.colab Python module.\n",
              " */\n",
              "(function(scope) {\n",
              "function span(text, styleAttributes = {}) {\n",
              "  const element = document.createElement('span');\n",
              "  element.textContent = text;\n",
              "  for (const key of Object.keys(styleAttributes)) {\n",
              "    element.style[key] = styleAttributes[key];\n",
              "  }\n",
              "  return element;\n",
              "}\n",
              "\n",
              "// Max number of bytes which will be uploaded at a time.\n",
              "const MAX_PAYLOAD_SIZE = 100 * 1024;\n",
              "\n",
              "function _uploadFiles(inputId, outputId) {\n",
              "  const steps = uploadFilesStep(inputId, outputId);\n",
              "  const outputElement = document.getElementById(outputId);\n",
              "  // Cache steps on the outputElement to make it available for the next call\n",
              "  // to uploadFilesContinue from Python.\n",
              "  outputElement.steps = steps;\n",
              "\n",
              "  return _uploadFilesContinue(outputId);\n",
              "}\n",
              "\n",
              "// This is roughly an async generator (not supported in the browser yet),\n",
              "// where there are multiple asynchronous steps and the Python side is going\n",
              "// to poll for completion of each step.\n",
              "// This uses a Promise to block the python side on completion of each step,\n",
              "// then passes the result of the previous step as the input to the next step.\n",
              "function _uploadFilesContinue(outputId) {\n",
              "  const outputElement = document.getElementById(outputId);\n",
              "  const steps = outputElement.steps;\n",
              "\n",
              "  const next = steps.next(outputElement.lastPromiseValue);\n",
              "  return Promise.resolve(next.value.promise).then((value) => {\n",
              "    // Cache the last promise value to make it available to the next\n",
              "    // step of the generator.\n",
              "    outputElement.lastPromiseValue = value;\n",
              "    return next.value.response;\n",
              "  });\n",
              "}\n",
              "\n",
              "/**\n",
              " * Generator function which is called between each async step of the upload\n",
              " * process.\n",
              " * @param {string} inputId Element ID of the input file picker element.\n",
              " * @param {string} outputId Element ID of the output display.\n",
              " * @return {!Iterable<!Object>} Iterable of next steps.\n",
              " */\n",
              "function* uploadFilesStep(inputId, outputId) {\n",
              "  const inputElement = document.getElementById(inputId);\n",
              "  inputElement.disabled = false;\n",
              "\n",
              "  const outputElement = document.getElementById(outputId);\n",
              "  outputElement.innerHTML = '';\n",
              "\n",
              "  const pickedPromise = new Promise((resolve) => {\n",
              "    inputElement.addEventListener('change', (e) => {\n",
              "      resolve(e.target.files);\n",
              "    });\n",
              "  });\n",
              "\n",
              "  const cancel = document.createElement('button');\n",
              "  inputElement.parentElement.appendChild(cancel);\n",
              "  cancel.textContent = 'Cancel upload';\n",
              "  const cancelPromise = new Promise((resolve) => {\n",
              "    cancel.onclick = () => {\n",
              "      resolve(null);\n",
              "    };\n",
              "  });\n",
              "\n",
              "  // Wait for the user to pick the files.\n",
              "  const files = yield {\n",
              "    promise: Promise.race([pickedPromise, cancelPromise]),\n",
              "    response: {\n",
              "      action: 'starting',\n",
              "    }\n",
              "  };\n",
              "\n",
              "  cancel.remove();\n",
              "\n",
              "  // Disable the input element since further picks are not allowed.\n",
              "  inputElement.disabled = true;\n",
              "\n",
              "  if (!files) {\n",
              "    return {\n",
              "      response: {\n",
              "        action: 'complete',\n",
              "      }\n",
              "    };\n",
              "  }\n",
              "\n",
              "  for (const file of files) {\n",
              "    const li = document.createElement('li');\n",
              "    li.append(span(file.name, {fontWeight: 'bold'}));\n",
              "    li.append(span(\n",
              "        `(${file.type || 'n/a'}) - ${file.size} bytes, ` +\n",
              "        `last modified: ${\n",
              "            file.lastModifiedDate ? file.lastModifiedDate.toLocaleDateString() :\n",
              "                                    'n/a'} - `));\n",
              "    const percent = span('0% done');\n",
              "    li.appendChild(percent);\n",
              "\n",
              "    outputElement.appendChild(li);\n",
              "\n",
              "    const fileDataPromise = new Promise((resolve) => {\n",
              "      const reader = new FileReader();\n",
              "      reader.onload = (e) => {\n",
              "        resolve(e.target.result);\n",
              "      };\n",
              "      reader.readAsArrayBuffer(file);\n",
              "    });\n",
              "    // Wait for the data to be ready.\n",
              "    let fileData = yield {\n",
              "      promise: fileDataPromise,\n",
              "      response: {\n",
              "        action: 'continue',\n",
              "      }\n",
              "    };\n",
              "\n",
              "    // Use a chunked sending to avoid message size limits. See b/62115660.\n",
              "    let position = 0;\n",
              "    do {\n",
              "      const length = Math.min(fileData.byteLength - position, MAX_PAYLOAD_SIZE);\n",
              "      const chunk = new Uint8Array(fileData, position, length);\n",
              "      position += length;\n",
              "\n",
              "      const base64 = btoa(String.fromCharCode.apply(null, chunk));\n",
              "      yield {\n",
              "        response: {\n",
              "          action: 'append',\n",
              "          file: file.name,\n",
              "          data: base64,\n",
              "        },\n",
              "      };\n",
              "\n",
              "      let percentDone = fileData.byteLength === 0 ?\n",
              "          100 :\n",
              "          Math.round((position / fileData.byteLength) * 100);\n",
              "      percent.textContent = `${percentDone}% done`;\n",
              "\n",
              "    } while (position < fileData.byteLength);\n",
              "  }\n",
              "\n",
              "  // All done.\n",
              "  yield {\n",
              "    response: {\n",
              "      action: 'complete',\n",
              "    }\n",
              "  };\n",
              "}\n",
              "\n",
              "scope.google = scope.google || {};\n",
              "scope.google.colab = scope.google.colab || {};\n",
              "scope.google.colab._files = {\n",
              "  _uploadFiles,\n",
              "  _uploadFilesContinue,\n",
              "};\n",
              "})(self);\n",
              "</script> "
            ]
          },
          "metadata": {}
        },
        {
          "output_type": "stream",
          "name": "stdout",
          "text": [
            "Saving kvantitativne_formule.py to kvantitativne_formule.py\n"
          ]
        }
      ]
    },
    {
      "cell_type": "code",
      "source": [
        "import kvantitativne_formule as qt\n",
        "import scipy.stats as st\n",
        "import scipy.optimize as sco\n",
        "import numpy.linalg as LA"
      ],
      "metadata": {
        "id": "POLKOyZmFJKX"
      },
      "execution_count": 6,
      "outputs": []
    },
    {
      "cell_type": "code",
      "source": [
        "ret = pd.read_excel('weekly4.xlsx',index_col=\"Date\")\n",
        "ret"
      ],
      "metadata": {
        "colab": {
          "base_uri": "https://localhost:8080/",
          "height": 455
        },
        "id": "LRaGj1ufFUhk",
        "outputId": "31e9b0ca-7fe8-4c03-c71c-ced60195bcea"
      },
      "execution_count": 7,
      "outputs": [
        {
          "output_type": "execute_result",
          "data": {
            "text/plain": [
              "                MSFT       NKE       PEP      TSLA\n",
              "Date                                              \n",
              "2020-01-06  0.017003 -0.010058 -0.008143  0.076332\n",
              "2020-01-13  0.035079  0.035344  0.048815  0.065466\n",
              "2020-01-20 -0.012405 -0.024207  0.011683  0.101116\n",
              "2020-01-27  0.030963 -0.057799 -0.006317  0.141342\n",
              "2020-02-03  0.077187  0.032086  0.023314  0.139648\n",
              "...              ...       ...       ...       ...\n",
              "2022-11-14 -0.024124 -0.006335  0.018254 -0.083950\n",
              "2022-11-28  0.029972  0.057221  0.008545  0.063561\n",
              "2022-12-12 -0.002979 -0.032226 -0.015189 -0.175498\n",
              "2022-12-19 -0.024659  0.092776  0.010590 -0.198764\n",
              "2022-12-26  0.004555  0.006516 -0.008817  0.000244\n",
              "\n",
              "[125 rows x 4 columns]"
            ],
            "text/html": [
              "\n",
              "  <div id=\"df-a594ab49-46de-4ed8-8158-91368ea78762\" class=\"colab-df-container\">\n",
              "    <div>\n",
              "<style scoped>\n",
              "    .dataframe tbody tr th:only-of-type {\n",
              "        vertical-align: middle;\n",
              "    }\n",
              "\n",
              "    .dataframe tbody tr th {\n",
              "        vertical-align: top;\n",
              "    }\n",
              "\n",
              "    .dataframe thead th {\n",
              "        text-align: right;\n",
              "    }\n",
              "</style>\n",
              "<table border=\"1\" class=\"dataframe\">\n",
              "  <thead>\n",
              "    <tr style=\"text-align: right;\">\n",
              "      <th></th>\n",
              "      <th>MSFT</th>\n",
              "      <th>NKE</th>\n",
              "      <th>PEP</th>\n",
              "      <th>TSLA</th>\n",
              "    </tr>\n",
              "    <tr>\n",
              "      <th>Date</th>\n",
              "      <th></th>\n",
              "      <th></th>\n",
              "      <th></th>\n",
              "      <th></th>\n",
              "    </tr>\n",
              "  </thead>\n",
              "  <tbody>\n",
              "    <tr>\n",
              "      <th>2020-01-06</th>\n",
              "      <td>0.017003</td>\n",
              "      <td>-0.010058</td>\n",
              "      <td>-0.008143</td>\n",
              "      <td>0.076332</td>\n",
              "    </tr>\n",
              "    <tr>\n",
              "      <th>2020-01-13</th>\n",
              "      <td>0.035079</td>\n",
              "      <td>0.035344</td>\n",
              "      <td>0.048815</td>\n",
              "      <td>0.065466</td>\n",
              "    </tr>\n",
              "    <tr>\n",
              "      <th>2020-01-20</th>\n",
              "      <td>-0.012405</td>\n",
              "      <td>-0.024207</td>\n",
              "      <td>0.011683</td>\n",
              "      <td>0.101116</td>\n",
              "    </tr>\n",
              "    <tr>\n",
              "      <th>2020-01-27</th>\n",
              "      <td>0.030963</td>\n",
              "      <td>-0.057799</td>\n",
              "      <td>-0.006317</td>\n",
              "      <td>0.141342</td>\n",
              "    </tr>\n",
              "    <tr>\n",
              "      <th>2020-02-03</th>\n",
              "      <td>0.077187</td>\n",
              "      <td>0.032086</td>\n",
              "      <td>0.023314</td>\n",
              "      <td>0.139648</td>\n",
              "    </tr>\n",
              "    <tr>\n",
              "      <th>...</th>\n",
              "      <td>...</td>\n",
              "      <td>...</td>\n",
              "      <td>...</td>\n",
              "      <td>...</td>\n",
              "    </tr>\n",
              "    <tr>\n",
              "      <th>2022-11-14</th>\n",
              "      <td>-0.024124</td>\n",
              "      <td>-0.006335</td>\n",
              "      <td>0.018254</td>\n",
              "      <td>-0.083950</td>\n",
              "    </tr>\n",
              "    <tr>\n",
              "      <th>2022-11-28</th>\n",
              "      <td>0.029972</td>\n",
              "      <td>0.057221</td>\n",
              "      <td>0.008545</td>\n",
              "      <td>0.063561</td>\n",
              "    </tr>\n",
              "    <tr>\n",
              "      <th>2022-12-12</th>\n",
              "      <td>-0.002979</td>\n",
              "      <td>-0.032226</td>\n",
              "      <td>-0.015189</td>\n",
              "      <td>-0.175498</td>\n",
              "    </tr>\n",
              "    <tr>\n",
              "      <th>2022-12-19</th>\n",
              "      <td>-0.024659</td>\n",
              "      <td>0.092776</td>\n",
              "      <td>0.010590</td>\n",
              "      <td>-0.198764</td>\n",
              "    </tr>\n",
              "    <tr>\n",
              "      <th>2022-12-26</th>\n",
              "      <td>0.004555</td>\n",
              "      <td>0.006516</td>\n",
              "      <td>-0.008817</td>\n",
              "      <td>0.000244</td>\n",
              "    </tr>\n",
              "  </tbody>\n",
              "</table>\n",
              "<p>125 rows × 4 columns</p>\n",
              "</div>\n",
              "    <div class=\"colab-df-buttons\">\n",
              "\n",
              "  <div class=\"colab-df-container\">\n",
              "    <button class=\"colab-df-convert\" onclick=\"convertToInteractive('df-a594ab49-46de-4ed8-8158-91368ea78762')\"\n",
              "            title=\"Convert this dataframe to an interactive table.\"\n",
              "            style=\"display:none;\">\n",
              "\n",
              "  <svg xmlns=\"http://www.w3.org/2000/svg\" height=\"24px\" viewBox=\"0 -960 960 960\">\n",
              "    <path d=\"M120-120v-720h720v720H120Zm60-500h600v-160H180v160Zm220 220h160v-160H400v160Zm0 220h160v-160H400v160ZM180-400h160v-160H180v160Zm440 0h160v-160H620v160ZM180-180h160v-160H180v160Zm440 0h160v-160H620v160Z\"/>\n",
              "  </svg>\n",
              "    </button>\n",
              "\n",
              "  <style>\n",
              "    .colab-df-container {\n",
              "      display:flex;\n",
              "      gap: 12px;\n",
              "    }\n",
              "\n",
              "    .colab-df-convert {\n",
              "      background-color: #E8F0FE;\n",
              "      border: none;\n",
              "      border-radius: 50%;\n",
              "      cursor: pointer;\n",
              "      display: none;\n",
              "      fill: #1967D2;\n",
              "      height: 32px;\n",
              "      padding: 0 0 0 0;\n",
              "      width: 32px;\n",
              "    }\n",
              "\n",
              "    .colab-df-convert:hover {\n",
              "      background-color: #E2EBFA;\n",
              "      box-shadow: 0px 1px 2px rgba(60, 64, 67, 0.3), 0px 1px 3px 1px rgba(60, 64, 67, 0.15);\n",
              "      fill: #174EA6;\n",
              "    }\n",
              "\n",
              "    .colab-df-buttons div {\n",
              "      margin-bottom: 4px;\n",
              "    }\n",
              "\n",
              "    [theme=dark] .colab-df-convert {\n",
              "      background-color: #3B4455;\n",
              "      fill: #D2E3FC;\n",
              "    }\n",
              "\n",
              "    [theme=dark] .colab-df-convert:hover {\n",
              "      background-color: #434B5C;\n",
              "      box-shadow: 0px 1px 3px 1px rgba(0, 0, 0, 0.15);\n",
              "      filter: drop-shadow(0px 1px 2px rgba(0, 0, 0, 0.3));\n",
              "      fill: #FFFFFF;\n",
              "    }\n",
              "  </style>\n",
              "\n",
              "    <script>\n",
              "      const buttonEl =\n",
              "        document.querySelector('#df-a594ab49-46de-4ed8-8158-91368ea78762 button.colab-df-convert');\n",
              "      buttonEl.style.display =\n",
              "        google.colab.kernel.accessAllowed ? 'block' : 'none';\n",
              "\n",
              "      async function convertToInteractive(key) {\n",
              "        const element = document.querySelector('#df-a594ab49-46de-4ed8-8158-91368ea78762');\n",
              "        const dataTable =\n",
              "          await google.colab.kernel.invokeFunction('convertToInteractive',\n",
              "                                                    [key], {});\n",
              "        if (!dataTable) return;\n",
              "\n",
              "        const docLinkHtml = 'Like what you see? Visit the ' +\n",
              "          '<a target=\"_blank\" href=https://colab.research.google.com/notebooks/data_table.ipynb>data table notebook</a>'\n",
              "          + ' to learn more about interactive tables.';\n",
              "        element.innerHTML = '';\n",
              "        dataTable['output_type'] = 'display_data';\n",
              "        await google.colab.output.renderOutput(dataTable, element);\n",
              "        const docLink = document.createElement('div');\n",
              "        docLink.innerHTML = docLinkHtml;\n",
              "        element.appendChild(docLink);\n",
              "      }\n",
              "    </script>\n",
              "  </div>\n",
              "\n",
              "\n",
              "<div id=\"df-3a938d29-c371-4f24-b101-efa38ae7969b\">\n",
              "  <button class=\"colab-df-quickchart\" onclick=\"quickchart('df-3a938d29-c371-4f24-b101-efa38ae7969b')\"\n",
              "            title=\"Suggest charts.\"\n",
              "            style=\"display:none;\">\n",
              "\n",
              "<svg xmlns=\"http://www.w3.org/2000/svg\" height=\"24px\"viewBox=\"0 0 24 24\"\n",
              "     width=\"24px\">\n",
              "    <g>\n",
              "        <path d=\"M19 3H5c-1.1 0-2 .9-2 2v14c0 1.1.9 2 2 2h14c1.1 0 2-.9 2-2V5c0-1.1-.9-2-2-2zM9 17H7v-7h2v7zm4 0h-2V7h2v10zm4 0h-2v-4h2v4z\"/>\n",
              "    </g>\n",
              "</svg>\n",
              "  </button>\n",
              "\n",
              "<style>\n",
              "  .colab-df-quickchart {\n",
              "    background-color: #E8F0FE;\n",
              "    border: none;\n",
              "    border-radius: 50%;\n",
              "    cursor: pointer;\n",
              "    display: none;\n",
              "    fill: #1967D2;\n",
              "    height: 32px;\n",
              "    padding: 0 0 0 0;\n",
              "    width: 32px;\n",
              "  }\n",
              "\n",
              "  .colab-df-quickchart:hover {\n",
              "    background-color: #E2EBFA;\n",
              "    box-shadow: 0px 1px 2px rgba(60, 64, 67, 0.3), 0px 1px 3px 1px rgba(60, 64, 67, 0.15);\n",
              "    fill: #174EA6;\n",
              "  }\n",
              "\n",
              "  [theme=dark] .colab-df-quickchart {\n",
              "    background-color: #3B4455;\n",
              "    fill: #D2E3FC;\n",
              "  }\n",
              "\n",
              "  [theme=dark] .colab-df-quickchart:hover {\n",
              "    background-color: #434B5C;\n",
              "    box-shadow: 0px 1px 3px 1px rgba(0, 0, 0, 0.15);\n",
              "    filter: drop-shadow(0px 1px 2px rgba(0, 0, 0, 0.3));\n",
              "    fill: #FFFFFF;\n",
              "  }\n",
              "</style>\n",
              "\n",
              "  <script>\n",
              "    async function quickchart(key) {\n",
              "      const charts = await google.colab.kernel.invokeFunction(\n",
              "          'suggestCharts', [key], {});\n",
              "    }\n",
              "    (() => {\n",
              "      let quickchartButtonEl =\n",
              "        document.querySelector('#df-3a938d29-c371-4f24-b101-efa38ae7969b button');\n",
              "      quickchartButtonEl.style.display =\n",
              "        google.colab.kernel.accessAllowed ? 'block' : 'none';\n",
              "    })();\n",
              "  </script>\n",
              "</div>\n",
              "    </div>\n",
              "  </div>\n"
            ]
          },
          "metadata": {},
          "execution_count": 7
        }
      ]
    },
    {
      "cell_type": "markdown",
      "source": [
        "b) Compute the <u>expected returns</u> using one of the 2 possible measures that we have seen in class (metric which you decide to use continue using in all further tasks which requires expected returns as inputs in this problem and the next). State in words the calculation method. Which stock is expected to perform the best and which is supposed to perform the worst according to the method of estimation that you have selected?"
      ],
      "metadata": {
        "id": "UiHEY1iNFeHo"
      }
    },
    {
      "cell_type": "code",
      "source": [
        "er = qt.expRet(ret,n=52,com=True)\n",
        "er"
      ],
      "metadata": {
        "colab": {
          "base_uri": "https://localhost:8080/"
        },
        "id": "dZIQEd_0FgQO",
        "outputId": "014d30e4-fee6-4169-ab44-75194c0388ce"
      },
      "execution_count": 9,
      "outputs": [
        {
          "output_type": "execute_result",
          "data": {
            "text/plain": [
              "MSFT    0.230438\n",
              "NKE     0.159351\n",
              "PEP     0.197626\n",
              "TSLA    0.633493\n",
              "dtype: float64"
            ]
          },
          "metadata": {},
          "execution_count": 9
        }
      ]
    },
    {
      "cell_type": "markdown",
      "source": [
        "I have used annualized compounded sample returns method. According to this method, Tesla is expected to perform the best with return 63.35%, while worst performer in this case will be nike with return 15.94%"
      ],
      "metadata": {
        "id": "v1flNV4-FrIB"
      }
    },
    {
      "cell_type": "markdown",
      "source": [
        "c) Estimate the level of risk associated with each of these 4 investments as annualized volatility. What is the riskiest and what is the least risky stock, according to this measure.  "
      ],
      "metadata": {
        "id": "8p9E4QXyF_im"
      }
    },
    {
      "cell_type": "code",
      "source": [
        "vol = qt.annualize_vol(ret,n=52)\n",
        "vol"
      ],
      "metadata": {
        "colab": {
          "base_uri": "https://localhost:8080/"
        },
        "id": "kLbmyVreGBCV",
        "outputId": "13105024-a5c6-44a8-a207-143238f22621"
      },
      "execution_count": 11,
      "outputs": [
        {
          "output_type": "execute_result",
          "data": {
            "text/plain": [
              "MSFT    0.282926\n",
              "NKE     0.368601\n",
              "PEP     0.236546\n",
              "TSLA    0.708004\n",
              "dtype: float64"
            ]
          },
          "metadata": {},
          "execution_count": 11
        }
      ]
    },
    {
      "cell_type": "markdown",
      "source": [
        "<font color='DodgerBlue'> Tesla stock is the riskiest, while pepsi have lowest risk </font>"
      ],
      "metadata": {
        "id": "nde7RvK2GKsy"
      }
    },
    {
      "cell_type": "markdown",
      "source": [
        "d) What is the Sharpe ratio for each of these 4 investments? Which stock offers the best risk-return trade-off? According to FRED, average risk-free rate in this period was 0.6628% annually."
      ],
      "metadata": {
        "id": "GdxGHhsYGdz6"
      }
    },
    {
      "cell_type": "code",
      "source": [
        "sharp = qt.sharpe(ret,52,rf=0.006628,com=True)\n",
        "sharp"
      ],
      "metadata": {
        "colab": {
          "base_uri": "https://localhost:8080/"
        },
        "id": "DFFfGDOUGJAY",
        "outputId": "4bd006d2-4a02-45cf-cd1e-0715a8acec79"
      },
      "execution_count": 12,
      "outputs": [
        {
          "output_type": "execute_result",
          "data": {
            "text/plain": [
              "MSFT    0.791054\n",
              "NKE     0.414332\n",
              "PEP     0.807448\n",
              "TSLA    0.885398\n",
              "dtype: float64"
            ]
          },
          "metadata": {},
          "execution_count": 12
        }
      ]
    },
    {
      "cell_type": "markdown",
      "source": [
        "<font color='Green'>According to Sharpe's ratio, i can conclude that these investments have higher risks than returns, while Sharpe's ratio si less than one. From this results Tesla's stock have the best risk/return trade-off."
      ],
      "metadata": {
        "id": "ORXw_m3zGquL"
      }
    },
    {
      "cell_type": "markdown",
      "source": [
        "e) In class we have mentioned another risk-adjusted measure of performance - Calmar's ratio. Compute it for all 4 stocks. How would we rank the investments according to the Calmar ratio?"
      ],
      "metadata": {
        "id": "GxuiX_YzHJQX"
      }
    },
    {
      "cell_type": "markdown",
      "source": [
        "$$CR=\\frac{E(r)-r_f}{-MD}$$"
      ],
      "metadata": {
        "id": "OWeqghH5HMQu"
      }
    },
    {
      "cell_type": "code",
      "source": [
        "def CR(xret,er,rf):\n",
        "  xs=dict()\n",
        "  for i in xret.columns:\n",
        "    xs[i]=(er[i]-rf)/-((qt.drawdown(xret[i])['Drawdowns']).min())\n",
        "  return xs"
      ],
      "metadata": {
        "id": "ZFRZs9IDHLbw"
      },
      "execution_count": 14,
      "outputs": []
    },
    {
      "cell_type": "code",
      "source": [
        "CR(ret,er,rf=0.006628)"
      ],
      "metadata": {
        "colab": {
          "base_uri": "https://localhost:8080/"
        },
        "id": "rlo7RpqHHj5F",
        "outputId": "a77001e6-37cd-4ef5-9b5c-c61ecc760a53"
      },
      "execution_count": 15,
      "outputs": [
        {
          "output_type": "execute_result",
          "data": {
            "text/plain": [
              "{'MSFT': 0.6503674256631935,\n",
              " 'NKE': 0.31320582264177327,\n",
              " 'PEP': 0.9086339838898261,\n",
              " 'TSLA': 0.8539028590382058}"
            ]
          },
          "metadata": {},
          "execution_count": 15
        }
      ]
    },
    {
      "cell_type": "markdown",
      "source": [
        "Due the case of Calmar ratio the best investment is goning to be pepsi stocks. The bigger CR Ratio - the better risk/return trade-off off the investment."
      ],
      "metadata": {
        "id": "mcOw5SNkHtfX"
      }
    },
    {
      "cell_type": "markdown",
      "source": [
        "<font color='Violet ' style=\"font-size:25px\"><b>Problem 2 - Building (optimal) portfolio</b></font>"
      ],
      "metadata": {
        "id": "E5dyX_8CH9ZG"
      }
    },
    {
      "cell_type": "markdown",
      "source": [
        "In this task we continue to work with the same data as in <font color='Violet '><b>Problem 1 </b></font>, but now we intend optimal portfolio of this 4 stocks."
      ],
      "metadata": {
        "id": "nrDB-Kr3H_2F"
      }
    },
    {
      "cell_type": "markdown",
      "source": [
        "a) Suppose you have decided to invest into the **equally-weighted portfolio** of the same 4 stocks as in <font color='Violet '><b>Problem 1 </b></font>. Calculate its annual expected return and volatility. State your results in words.\n",
        "\n",
        "PS: When estimating portfolio expected return use the same statistic that you have used in previous problem."
      ],
      "metadata": {
        "id": "ezbC-ryjICWv"
      }
    },
    {
      "cell_type": "code",
      "source": [
        "w=np.array([0.25]*4)\n",
        "w"
      ],
      "metadata": {
        "colab": {
          "base_uri": "https://localhost:8080/"
        },
        "id": "6bj_7ZzEII-7",
        "outputId": "912558dc-d072-4e70-8e00-11f47cc3fe10"
      },
      "execution_count": 16,
      "outputs": [
        {
          "output_type": "execute_result",
          "data": {
            "text/plain": [
              "array([0.25, 0.25, 0.25, 0.25])"
            ]
          },
          "metadata": {},
          "execution_count": 16
        }
      ]
    },
    {
      "cell_type": "code",
      "source": [
        "ret_eq = qt.per(w,ret,52,com=True,er_assumed=None)\n",
        "ret_eq #Let's find the returns for the equally weightened portfolio"
      ],
      "metadata": {
        "colab": {
          "base_uri": "https://localhost:8080/"
        },
        "id": "gFSlUrx-INo3",
        "outputId": "91c7ca7d-4ead-4dd3-d586-c786812a8e97"
      },
      "execution_count": 19,
      "outputs": [
        {
          "output_type": "execute_result",
          "data": {
            "text/plain": [
              "0.30522707926547404"
            ]
          },
          "metadata": {},
          "execution_count": 19
        }
      ]
    },
    {
      "cell_type": "code",
      "source": [
        "vol_eq = qt.pV(w,ret,52,vol=True)\n",
        "vol_eq #we take the square root to find the standard deviation (with units being not squared)"
      ],
      "metadata": {
        "colab": {
          "base_uri": "https://localhost:8080/"
        },
        "id": "KA3ycJ4JIe6G",
        "outputId": "4875844b-e27f-4bb5-a169-e7d514b040ce"
      },
      "execution_count": 20,
      "outputs": [
        {
          "output_type": "execute_result",
          "data": {
            "text/plain": [
              "0.3160412687458506"
            ]
          },
          "metadata": {},
          "execution_count": 20
        }
      ]
    },
    {
      "cell_type": "markdown",
      "source": [
        "<font color='crimson'>Expected return for the portfolio is 30.52%, and the volatility is 31.6%.</font>\n"
      ],
      "metadata": {
        "id": "A2dIvyqFJDKx"
      }
    },
    {
      "cell_type": "markdown",
      "source": [
        "b) Find the MVP portfolio. Compare (via comments) it's risk, returns and weights with those of equally-weighted portfolio (analyzed in previous task)."
      ],
      "metadata": {
        "id": "hTwf4yCXJGYX"
      }
    },
    {
      "cell_type": "code",
      "source": [
        "result=sco.minimize(lambda w: qt.pV(w,ret,52),[0.25]*4,constraints=[dict(type='eq',fun=lambda w: sum(w)-1)])\n",
        "result"
      ],
      "metadata": {
        "colab": {
          "base_uri": "https://localhost:8080/"
        },
        "id": "l1sLJodSJHCB",
        "outputId": "60d4da98-58b7-4cb0-a100-e78bca175096"
      },
      "execution_count": 22,
      "outputs": [
        {
          "output_type": "execute_result",
          "data": {
            "text/plain": [
              " message: Optimization terminated successfully\n",
              " success: True\n",
              "  status: 0\n",
              "     fun: 0.047705868963458\n",
              "       x: [ 3.538e-01  4.637e-02  6.766e-01 -7.679e-02]\n",
              "     nit: 11\n",
              "     jac: [ 9.547e-02  9.551e-02  9.550e-02  9.649e-02]\n",
              "    nfev: 56\n",
              "    njev: 11"
            ]
          },
          "metadata": {},
          "execution_count": 22
        }
      ]
    },
    {
      "cell_type": "code",
      "source": [
        "np.sqrt(result['fun']) #we take the square root to find the standard deviation with units being not squared"
      ],
      "metadata": {
        "colab": {
          "base_uri": "https://localhost:8080/"
        },
        "id": "Yx1iOBJZJYfi",
        "outputId": "bfcf5b4b-a512-49f6-80a3-d5f8560c9f0c"
      },
      "execution_count": 23,
      "outputs": [
        {
          "output_type": "execute_result",
          "data": {
            "text/plain": [
              "0.2184167323339904"
            ]
          },
          "metadata": {},
          "execution_count": 23
        }
      ]
    },
    {
      "cell_type": "code",
      "source": [
        "ret_mvp = qt.per(result.x,ret,52,com=True,er_assumed=None)\n",
        "ret_mvp #Return for the MVP portfolio"
      ],
      "metadata": {
        "colab": {
          "base_uri": "https://localhost:8080/"
        },
        "id": "vFTgul1bJiDW",
        "outputId": "97110b48-c4aa-4918-882c-70bc534e64fe"
      },
      "execution_count": 24,
      "outputs": [
        {
          "output_type": "execute_result",
          "data": {
            "text/plain": [
              "0.17399134084525553"
            ]
          },
          "metadata": {},
          "execution_count": 24
        }
      ]
    },
    {
      "cell_type": "markdown",
      "source": [
        "<font color='crimson'>The weights are different from the equally weighted portfolio with PEPSI having the highest weight. Note that TESLA is the one should sell short according to these computations. Our MVP portfolio is less risky (21.8% against 31.6% for the equally weighted portfolio). MVP portfolio has a smaller return compared to the equally weighted portfolio (17.4 % against 30.5%). </font>"
      ],
      "metadata": {
        "id": "2hk8NLz_Jv2Q"
      }
    },
    {
      "cell_type": "markdown",
      "source": [
        "c) Find portfolio which offers the same expected return as equally-weighted portfolio but with the smallest possible level of risk. Compare (via comments) risk (volatility) of that portfolio with the level of risk for portfolios discussed in a) and b)."
      ],
      "metadata": {
        "id": "ac3E_ysHJ6CV"
      }
    },
    {
      "cell_type": "code",
      "source": [
        "result2=sco.minimize(lambda w: qt.pV(w,ret,52),[0.25]*4,constraints=[dict(type='eq',fun=lambda w:sum(w)-1),\n",
        "                                                                     dict(type='eq',fun=lambda w: qt.per(w,ret,52,com=True,er_assumed=None)- ret_eq)])\n",
        "result2"
      ],
      "metadata": {
        "colab": {
          "base_uri": "https://localhost:8080/"
        },
        "id": "L-xBgueOJ7Jn",
        "outputId": "af10ed15-d189-4896-91ff-1d7f3835c9a5"
      },
      "execution_count": 26,
      "outputs": [
        {
          "output_type": "execute_result",
          "data": {
            "text/plain": [
              " message: Optimization terminated successfully\n",
              " success: True\n",
              "  status: 0\n",
              "     fun: 0.08016296301671\n",
              "       x: [ 3.473e-01 -1.798e-01  6.276e-01  2.049e-01]\n",
              "     nit: 7\n",
              "     jac: [ 1.233e-01  8.820e-02  1.071e-01  3.226e-01]\n",
              "    nfev: 35\n",
              "    njev: 7"
            ]
          },
          "metadata": {},
          "execution_count": 26
        }
      ]
    },
    {
      "cell_type": "code",
      "source": [
        "ret_2 = qt.per(result2.x,ret,52,True,None)\n",
        "ret_2"
      ],
      "metadata": {
        "colab": {
          "base_uri": "https://localhost:8080/"
        },
        "id": "MLFrUTbQKcf_",
        "outputId": "9deacd8a-0b27-4223-d08e-addee252778f"
      },
      "execution_count": 27,
      "outputs": [
        {
          "output_type": "execute_result",
          "data": {
            "text/plain": [
              "0.3052270792058216"
            ]
          },
          "metadata": {},
          "execution_count": 27
        }
      ]
    },
    {
      "cell_type": "code",
      "source": [
        "np.sqrt(result2.fun)"
      ],
      "metadata": {
        "colab": {
          "base_uri": "https://localhost:8080/"
        },
        "id": "RhWe58xvKji5",
        "outputId": "9058f6ea-5374-4829-a22f-4dc2b0913a8d"
      },
      "execution_count": 28,
      "outputs": [
        {
          "output_type": "execute_result",
          "data": {
            "text/plain": [
              "0.2831306465515699"
            ]
          },
          "metadata": {},
          "execution_count": 28
        }
      ]
    },
    {
      "cell_type": "markdown",
      "source": [
        "<font color='crimson'>Put your comment here:\n",
        "New portfolio is less risky than the equally weighted portfolio (28.3% against 31.6% for the equally weighted portfolio), but more risky than MVP portfolio (21.8%).</font>"
      ],
      "metadata": {
        "id": "1ZtvOQVaKnI3"
      }
    },
    {
      "cell_type": "markdown",
      "source": [
        "<font color='Teal' size=3><b>Bonus task</b></font><br>\n",
        "d*) Assume that an investor wants to achieve return of 26.5% on the annual basis with the smallest possible level of maximal drawdawn. Suppose further that short selling is prohibited in the economy. What would be the optimal portfolio that you would recommend to him/her in such case? What is the MD of such portfolio?"
      ],
      "metadata": {
        "id": "DNudzYqxKsLf"
      }
    },
    {
      "cell_type": "code",
      "source": [
        "result3=sco.minimize(lambda w: -qt.drawdown(ret@w)['Drawdowns'].min(),[0.25]*4,bounds=[(0,1)]*4,constraints=[dict(type='eq',fun=lambda w:sum(w)-1),\n",
        "                                                                                                          dict(type='eq',fun=lambda w: qt.per(w,ret,52,True,None)-0.265)])\n",
        "result3"
      ],
      "metadata": {
        "colab": {
          "base_uri": "https://localhost:8080/"
        },
        "id": "lKxSIqFnKunn",
        "outputId": "289f03b0-6657-42f9-b422-41df64bb362e"
      },
      "execution_count": 31,
      "outputs": [
        {
          "output_type": "execute_result",
          "data": {
            "text/plain": [
              " message: Optimization terminated successfully\n",
              " success: True\n",
              "  status: 0\n",
              "     fun: 0.19805254498254013\n",
              "       x: [ 2.006e-01  1.027e-16  6.600e-01  1.395e-01]\n",
              "     nit: 16\n",
              "     jac: [ 1.942e-01  1.940e-01  1.035e-01  5.288e-01]\n",
              "    nfev: 91\n",
              "    njev: 16"
            ]
          },
          "metadata": {},
          "execution_count": 31
        }
      ]
    },
    {
      "cell_type": "code",
      "source": [
        "ret"
      ],
      "metadata": {
        "colab": {
          "base_uri": "https://localhost:8080/",
          "height": 455
        },
        "id": "t1T6_SHyL-PD",
        "outputId": "02b00756-1e91-40a5-b402-931199b011b4"
      },
      "execution_count": 33,
      "outputs": [
        {
          "output_type": "execute_result",
          "data": {
            "text/plain": [
              "                MSFT       NKE       PEP      TSLA\n",
              "Date                                              \n",
              "2020-01-06  0.017003 -0.010058 -0.008143  0.076332\n",
              "2020-01-13  0.035079  0.035344  0.048815  0.065466\n",
              "2020-01-20 -0.012405 -0.024207  0.011683  0.101116\n",
              "2020-01-27  0.030963 -0.057799 -0.006317  0.141342\n",
              "2020-02-03  0.077187  0.032086  0.023314  0.139648\n",
              "...              ...       ...       ...       ...\n",
              "2022-11-14 -0.024124 -0.006335  0.018254 -0.083950\n",
              "2022-11-28  0.029972  0.057221  0.008545  0.063561\n",
              "2022-12-12 -0.002979 -0.032226 -0.015189 -0.175498\n",
              "2022-12-19 -0.024659  0.092776  0.010590 -0.198764\n",
              "2022-12-26  0.004555  0.006516 -0.008817  0.000244\n",
              "\n",
              "[125 rows x 4 columns]"
            ],
            "text/html": [
              "\n",
              "  <div id=\"df-af8583cf-0530-4b03-80a6-94ed351e9092\" class=\"colab-df-container\">\n",
              "    <div>\n",
              "<style scoped>\n",
              "    .dataframe tbody tr th:only-of-type {\n",
              "        vertical-align: middle;\n",
              "    }\n",
              "\n",
              "    .dataframe tbody tr th {\n",
              "        vertical-align: top;\n",
              "    }\n",
              "\n",
              "    .dataframe thead th {\n",
              "        text-align: right;\n",
              "    }\n",
              "</style>\n",
              "<table border=\"1\" class=\"dataframe\">\n",
              "  <thead>\n",
              "    <tr style=\"text-align: right;\">\n",
              "      <th></th>\n",
              "      <th>MSFT</th>\n",
              "      <th>NKE</th>\n",
              "      <th>PEP</th>\n",
              "      <th>TSLA</th>\n",
              "    </tr>\n",
              "    <tr>\n",
              "      <th>Date</th>\n",
              "      <th></th>\n",
              "      <th></th>\n",
              "      <th></th>\n",
              "      <th></th>\n",
              "    </tr>\n",
              "  </thead>\n",
              "  <tbody>\n",
              "    <tr>\n",
              "      <th>2020-01-06</th>\n",
              "      <td>0.017003</td>\n",
              "      <td>-0.010058</td>\n",
              "      <td>-0.008143</td>\n",
              "      <td>0.076332</td>\n",
              "    </tr>\n",
              "    <tr>\n",
              "      <th>2020-01-13</th>\n",
              "      <td>0.035079</td>\n",
              "      <td>0.035344</td>\n",
              "      <td>0.048815</td>\n",
              "      <td>0.065466</td>\n",
              "    </tr>\n",
              "    <tr>\n",
              "      <th>2020-01-20</th>\n",
              "      <td>-0.012405</td>\n",
              "      <td>-0.024207</td>\n",
              "      <td>0.011683</td>\n",
              "      <td>0.101116</td>\n",
              "    </tr>\n",
              "    <tr>\n",
              "      <th>2020-01-27</th>\n",
              "      <td>0.030963</td>\n",
              "      <td>-0.057799</td>\n",
              "      <td>-0.006317</td>\n",
              "      <td>0.141342</td>\n",
              "    </tr>\n",
              "    <tr>\n",
              "      <th>2020-02-03</th>\n",
              "      <td>0.077187</td>\n",
              "      <td>0.032086</td>\n",
              "      <td>0.023314</td>\n",
              "      <td>0.139648</td>\n",
              "    </tr>\n",
              "    <tr>\n",
              "      <th>...</th>\n",
              "      <td>...</td>\n",
              "      <td>...</td>\n",
              "      <td>...</td>\n",
              "      <td>...</td>\n",
              "    </tr>\n",
              "    <tr>\n",
              "      <th>2022-11-14</th>\n",
              "      <td>-0.024124</td>\n",
              "      <td>-0.006335</td>\n",
              "      <td>0.018254</td>\n",
              "      <td>-0.083950</td>\n",
              "    </tr>\n",
              "    <tr>\n",
              "      <th>2022-11-28</th>\n",
              "      <td>0.029972</td>\n",
              "      <td>0.057221</td>\n",
              "      <td>0.008545</td>\n",
              "      <td>0.063561</td>\n",
              "    </tr>\n",
              "    <tr>\n",
              "      <th>2022-12-12</th>\n",
              "      <td>-0.002979</td>\n",
              "      <td>-0.032226</td>\n",
              "      <td>-0.015189</td>\n",
              "      <td>-0.175498</td>\n",
              "    </tr>\n",
              "    <tr>\n",
              "      <th>2022-12-19</th>\n",
              "      <td>-0.024659</td>\n",
              "      <td>0.092776</td>\n",
              "      <td>0.010590</td>\n",
              "      <td>-0.198764</td>\n",
              "    </tr>\n",
              "    <tr>\n",
              "      <th>2022-12-26</th>\n",
              "      <td>0.004555</td>\n",
              "      <td>0.006516</td>\n",
              "      <td>-0.008817</td>\n",
              "      <td>0.000244</td>\n",
              "    </tr>\n",
              "  </tbody>\n",
              "</table>\n",
              "<p>125 rows × 4 columns</p>\n",
              "</div>\n",
              "    <div class=\"colab-df-buttons\">\n",
              "\n",
              "  <div class=\"colab-df-container\">\n",
              "    <button class=\"colab-df-convert\" onclick=\"convertToInteractive('df-af8583cf-0530-4b03-80a6-94ed351e9092')\"\n",
              "            title=\"Convert this dataframe to an interactive table.\"\n",
              "            style=\"display:none;\">\n",
              "\n",
              "  <svg xmlns=\"http://www.w3.org/2000/svg\" height=\"24px\" viewBox=\"0 -960 960 960\">\n",
              "    <path d=\"M120-120v-720h720v720H120Zm60-500h600v-160H180v160Zm220 220h160v-160H400v160Zm0 220h160v-160H400v160ZM180-400h160v-160H180v160Zm440 0h160v-160H620v160ZM180-180h160v-160H180v160Zm440 0h160v-160H620v160Z\"/>\n",
              "  </svg>\n",
              "    </button>\n",
              "\n",
              "  <style>\n",
              "    .colab-df-container {\n",
              "      display:flex;\n",
              "      gap: 12px;\n",
              "    }\n",
              "\n",
              "    .colab-df-convert {\n",
              "      background-color: #E8F0FE;\n",
              "      border: none;\n",
              "      border-radius: 50%;\n",
              "      cursor: pointer;\n",
              "      display: none;\n",
              "      fill: #1967D2;\n",
              "      height: 32px;\n",
              "      padding: 0 0 0 0;\n",
              "      width: 32px;\n",
              "    }\n",
              "\n",
              "    .colab-df-convert:hover {\n",
              "      background-color: #E2EBFA;\n",
              "      box-shadow: 0px 1px 2px rgba(60, 64, 67, 0.3), 0px 1px 3px 1px rgba(60, 64, 67, 0.15);\n",
              "      fill: #174EA6;\n",
              "    }\n",
              "\n",
              "    .colab-df-buttons div {\n",
              "      margin-bottom: 4px;\n",
              "    }\n",
              "\n",
              "    [theme=dark] .colab-df-convert {\n",
              "      background-color: #3B4455;\n",
              "      fill: #D2E3FC;\n",
              "    }\n",
              "\n",
              "    [theme=dark] .colab-df-convert:hover {\n",
              "      background-color: #434B5C;\n",
              "      box-shadow: 0px 1px 3px 1px rgba(0, 0, 0, 0.15);\n",
              "      filter: drop-shadow(0px 1px 2px rgba(0, 0, 0, 0.3));\n",
              "      fill: #FFFFFF;\n",
              "    }\n",
              "  </style>\n",
              "\n",
              "    <script>\n",
              "      const buttonEl =\n",
              "        document.querySelector('#df-af8583cf-0530-4b03-80a6-94ed351e9092 button.colab-df-convert');\n",
              "      buttonEl.style.display =\n",
              "        google.colab.kernel.accessAllowed ? 'block' : 'none';\n",
              "\n",
              "      async function convertToInteractive(key) {\n",
              "        const element = document.querySelector('#df-af8583cf-0530-4b03-80a6-94ed351e9092');\n",
              "        const dataTable =\n",
              "          await google.colab.kernel.invokeFunction('convertToInteractive',\n",
              "                                                    [key], {});\n",
              "        if (!dataTable) return;\n",
              "\n",
              "        const docLinkHtml = 'Like what you see? Visit the ' +\n",
              "          '<a target=\"_blank\" href=https://colab.research.google.com/notebooks/data_table.ipynb>data table notebook</a>'\n",
              "          + ' to learn more about interactive tables.';\n",
              "        element.innerHTML = '';\n",
              "        dataTable['output_type'] = 'display_data';\n",
              "        await google.colab.output.renderOutput(dataTable, element);\n",
              "        const docLink = document.createElement('div');\n",
              "        docLink.innerHTML = docLinkHtml;\n",
              "        element.appendChild(docLink);\n",
              "      }\n",
              "    </script>\n",
              "  </div>\n",
              "\n",
              "\n",
              "<div id=\"df-94180f19-caa8-4df5-b7a2-6b363d68979d\">\n",
              "  <button class=\"colab-df-quickchart\" onclick=\"quickchart('df-94180f19-caa8-4df5-b7a2-6b363d68979d')\"\n",
              "            title=\"Suggest charts.\"\n",
              "            style=\"display:none;\">\n",
              "\n",
              "<svg xmlns=\"http://www.w3.org/2000/svg\" height=\"24px\"viewBox=\"0 0 24 24\"\n",
              "     width=\"24px\">\n",
              "    <g>\n",
              "        <path d=\"M19 3H5c-1.1 0-2 .9-2 2v14c0 1.1.9 2 2 2h14c1.1 0 2-.9 2-2V5c0-1.1-.9-2-2-2zM9 17H7v-7h2v7zm4 0h-2V7h2v10zm4 0h-2v-4h2v4z\"/>\n",
              "    </g>\n",
              "</svg>\n",
              "  </button>\n",
              "\n",
              "<style>\n",
              "  .colab-df-quickchart {\n",
              "    background-color: #E8F0FE;\n",
              "    border: none;\n",
              "    border-radius: 50%;\n",
              "    cursor: pointer;\n",
              "    display: none;\n",
              "    fill: #1967D2;\n",
              "    height: 32px;\n",
              "    padding: 0 0 0 0;\n",
              "    width: 32px;\n",
              "  }\n",
              "\n",
              "  .colab-df-quickchart:hover {\n",
              "    background-color: #E2EBFA;\n",
              "    box-shadow: 0px 1px 2px rgba(60, 64, 67, 0.3), 0px 1px 3px 1px rgba(60, 64, 67, 0.15);\n",
              "    fill: #174EA6;\n",
              "  }\n",
              "\n",
              "  [theme=dark] .colab-df-quickchart {\n",
              "    background-color: #3B4455;\n",
              "    fill: #D2E3FC;\n",
              "  }\n",
              "\n",
              "  [theme=dark] .colab-df-quickchart:hover {\n",
              "    background-color: #434B5C;\n",
              "    box-shadow: 0px 1px 3px 1px rgba(0, 0, 0, 0.15);\n",
              "    filter: drop-shadow(0px 1px 2px rgba(0, 0, 0, 0.3));\n",
              "    fill: #FFFFFF;\n",
              "  }\n",
              "</style>\n",
              "\n",
              "  <script>\n",
              "    async function quickchart(key) {\n",
              "      const charts = await google.colab.kernel.invokeFunction(\n",
              "          'suggestCharts', [key], {});\n",
              "    }\n",
              "    (() => {\n",
              "      let quickchartButtonEl =\n",
              "        document.querySelector('#df-94180f19-caa8-4df5-b7a2-6b363d68979d button');\n",
              "      quickchartButtonEl.style.display =\n",
              "        google.colab.kernel.accessAllowed ? 'block' : 'none';\n",
              "    })();\n",
              "  </script>\n",
              "</div>\n",
              "    </div>\n",
              "  </div>\n"
            ]
          },
          "metadata": {},
          "execution_count": 33
        }
      ]
    },
    {
      "cell_type": "code",
      "source": [
        "[round(i,2) for i in list(result3.x)]"
      ],
      "metadata": {
        "colab": {
          "base_uri": "https://localhost:8080/"
        },
        "id": "9cb7xdQrLjr_",
        "outputId": "b645483f-ed38-4b5f-f99c-12539a7b3060"
      },
      "execution_count": 32,
      "outputs": [
        {
          "output_type": "execute_result",
          "data": {
            "text/plain": [
              "[0.2, 0.0, 0.66, 0.14]"
            ]
          },
          "metadata": {},
          "execution_count": 32
        }
      ]
    },
    {
      "cell_type": "markdown",
      "source": [
        "<font color='crimson'>Put your comment here:</font>\n",
        "\n",
        "<font color='crimson'>In order to calculate the maximal drawdown portfolio, i have to calculate the vector product of our portfolio weights and the expected returns of the assets, in order to get weekly returns for our portfolio: `ret@w`. This is done  since historical data is required for the computation of maximal drawdown.</font>\n",
        "\n",
        "<font color='crimson'>According to the results of minimization, i would recommend to invest like that: `[0.2, 0.0, 0.66, 0.14]`. Maximal drawdown in that case is -0.198.\n",
        "</font>"
      ],
      "metadata": {
        "id": "qgSQqsKmLsJ1"
      }
    }
  ]
}